{
 "cells": [
  {
   "cell_type": "markdown",
   "metadata": {},
   "source": [
    "# FIT 5120 - Industry Experience\n",
    "\n",
    "# Team Name - D8\n",
    "\n",
    "# Data Wrangling \n",
    "\n",
    "#### Dataset - Local Government Areas \n",
    "\n",
    "The dataset can be found at : https://data.gov.au/dataset/ds-ga-0f52b9a1-f5d4-9262-e053-12a3070af5ae/details?q=victoria%20local%20government\n",
    "\n",
    "\n"
   ]
  },
  {
   "cell_type": "markdown",
   "metadata": {},
   "source": [
    "## Pre-Processing steps :\n"
   ]
  },
  {
   "cell_type": "markdown",
   "metadata": {},
   "source": [
    "Importing the required packages - pandas "
   ]
  },
  {
   "cell_type": "code",
   "execution_count": 1,
   "metadata": {},
   "outputs": [],
   "source": [
    "import pandas as pd"
   ]
  },
  {
   "cell_type": "markdown",
   "metadata": {},
   "source": [
    "Importing the dataset using pandas"
   ]
  },
  {
   "cell_type": "code",
   "execution_count": 2,
   "metadata": {},
   "outputs": [],
   "source": [
    "councils = pd.read_csv(\"LGACouncilOffices.csv\",encoding='cp1252')\n"
   ]
  },
  {
   "cell_type": "markdown",
   "metadata": {},
   "source": [
    "Making a copy of the dataframe"
   ]
  },
  {
   "cell_type": "code",
   "execution_count": 3,
   "metadata": {},
   "outputs": [],
   "source": [
    "all_councils = councils.copy()"
   ]
  },
  {
   "cell_type": "code",
   "execution_count": 4,
   "metadata": {},
   "outputs": [
    {
     "data": {
      "text/html": [
       "<div>\n",
       "<style scoped>\n",
       "    .dataframe tbody tr th:only-of-type {\n",
       "        vertical-align: middle;\n",
       "    }\n",
       "\n",
       "    .dataframe tbody tr th {\n",
       "        vertical-align: top;\n",
       "    }\n",
       "\n",
       "    .dataframe thead th {\n",
       "        text-align: right;\n",
       "    }\n",
       "</style>\n",
       "<table border=\"1\" class=\"dataframe\">\n",
       "  <thead>\n",
       "    <tr style=\"text-align: right;\">\n",
       "      <th></th>\n",
       "      <th>OBJECTID</th>\n",
       "      <th>FEATURETYPE</th>\n",
       "      <th>DESCRIPTION</th>\n",
       "      <th>CLASS</th>\n",
       "      <th>FID</th>\n",
       "      <th>NAME</th>\n",
       "      <th>OPERATIONALSTATUS</th>\n",
       "      <th>LOCALGOVERNMENTAREA_LGA</th>\n",
       "      <th>ADDRESS</th>\n",
       "      <th>SUBURB</th>\n",
       "      <th>STATE</th>\n",
       "      <th>SPATIALCONFIDENCE</th>\n",
       "      <th>REVISED</th>\n",
       "      <th>COMMENT</th>\n",
       "      <th>LATITUDE</th>\n",
       "      <th>LONGITUDE</th>\n",
       "    </tr>\n",
       "  </thead>\n",
       "  <tbody>\n",
       "    <tr>\n",
       "      <th>0</th>\n",
       "      <td>1</td>\n",
       "      <td>Council Office</td>\n",
       "      <td>A facility where a Local Government’s main cou...</td>\n",
       "      <td>Council Office</td>\n",
       "      <td>1</td>\n",
       "      <td>Albury City Council</td>\n",
       "      <td>Operational</td>\n",
       "      <td>Albury (C)</td>\n",
       "      <td>553 Kiewa Street</td>\n",
       "      <td>Albury</td>\n",
       "      <td>New South Wales</td>\n",
       "      <td>5</td>\n",
       "      <td>20141201</td>\n",
       "      <td>NaN</td>\n",
       "      <td>-36.077655</td>\n",
       "      <td>146.915895</td>\n",
       "    </tr>\n",
       "    <tr>\n",
       "      <th>1</th>\n",
       "      <td>2</td>\n",
       "      <td>Council Office</td>\n",
       "      <td>A facility where a Local Government’s main cou...</td>\n",
       "      <td>Council Office</td>\n",
       "      <td>2</td>\n",
       "      <td>Armidale Dumaresq Council</td>\n",
       "      <td>Operational</td>\n",
       "      <td>Armidale Dumaresq (A)</td>\n",
       "      <td>135 Rusden Street</td>\n",
       "      <td>Armidale</td>\n",
       "      <td>New South Wales</td>\n",
       "      <td>5</td>\n",
       "      <td>20141201</td>\n",
       "      <td>NaN</td>\n",
       "      <td>-30.514478</td>\n",
       "      <td>151.665574</td>\n",
       "    </tr>\n",
       "    <tr>\n",
       "      <th>2</th>\n",
       "      <td>3</td>\n",
       "      <td>Council Office</td>\n",
       "      <td>A facility where a Local Government’s main cou...</td>\n",
       "      <td>Council Office</td>\n",
       "      <td>3</td>\n",
       "      <td>Ashfield Council</td>\n",
       "      <td>Operational</td>\n",
       "      <td>Ashfield (A)</td>\n",
       "      <td>260 Liverpool Road</td>\n",
       "      <td>Ashfield</td>\n",
       "      <td>New South Wales</td>\n",
       "      <td>5</td>\n",
       "      <td>20141201</td>\n",
       "      <td>NaN</td>\n",
       "      <td>-33.888846</td>\n",
       "      <td>151.124226</td>\n",
       "    </tr>\n",
       "    <tr>\n",
       "      <th>3</th>\n",
       "      <td>4</td>\n",
       "      <td>Council Office</td>\n",
       "      <td>A facility where a Local Government’s main cou...</td>\n",
       "      <td>Council Office</td>\n",
       "      <td>4</td>\n",
       "      <td>Auburn City Council</td>\n",
       "      <td>Operational</td>\n",
       "      <td>Auburn (C)</td>\n",
       "      <td>1 Susan Street</td>\n",
       "      <td>Auburn</td>\n",
       "      <td>New South Wales</td>\n",
       "      <td>5</td>\n",
       "      <td>20141202</td>\n",
       "      <td>NaN</td>\n",
       "      <td>-33.853288</td>\n",
       "      <td>151.033589</td>\n",
       "    </tr>\n",
       "    <tr>\n",
       "      <th>4</th>\n",
       "      <td>5</td>\n",
       "      <td>Council Office</td>\n",
       "      <td>A facility where a Local Government’s main cou...</td>\n",
       "      <td>Council Office</td>\n",
       "      <td>5</td>\n",
       "      <td>Ballina Shire Council</td>\n",
       "      <td>Operational</td>\n",
       "      <td>Ballina (A)</td>\n",
       "      <td>40 Cherry Street</td>\n",
       "      <td>Ballina</td>\n",
       "      <td>New South Wales</td>\n",
       "      <td>5</td>\n",
       "      <td>20141208</td>\n",
       "      <td>NaN</td>\n",
       "      <td>-28.869447</td>\n",
       "      <td>153.561789</td>\n",
       "    </tr>\n",
       "  </tbody>\n",
       "</table>\n",
       "</div>"
      ],
      "text/plain": [
       "   OBJECTID     FEATURETYPE  \\\n",
       "0         1  Council Office   \n",
       "1         2  Council Office   \n",
       "2         3  Council Office   \n",
       "3         4  Council Office   \n",
       "4         5  Council Office   \n",
       "\n",
       "                                         DESCRIPTION           CLASS  FID  \\\n",
       "0  A facility where a Local Government’s main cou...  Council Office    1   \n",
       "1  A facility where a Local Government’s main cou...  Council Office    2   \n",
       "2  A facility where a Local Government’s main cou...  Council Office    3   \n",
       "3  A facility where a Local Government’s main cou...  Council Office    4   \n",
       "4  A facility where a Local Government’s main cou...  Council Office    5   \n",
       "\n",
       "                        NAME OPERATIONALSTATUS LOCALGOVERNMENTAREA_LGA  \\\n",
       "0        Albury City Council       Operational              Albury (C)   \n",
       "1  Armidale Dumaresq Council       Operational   Armidale Dumaresq (A)   \n",
       "2           Ashfield Council       Operational            Ashfield (A)   \n",
       "3        Auburn City Council       Operational              Auburn (C)   \n",
       "4      Ballina Shire Council       Operational             Ballina (A)   \n",
       "\n",
       "              ADDRESS    SUBURB            STATE  SPATIALCONFIDENCE   REVISED  \\\n",
       "0    553 Kiewa Street    Albury  New South Wales                  5  20141201   \n",
       "1   135 Rusden Street  Armidale  New South Wales                  5  20141201   \n",
       "2  260 Liverpool Road  Ashfield  New South Wales                  5  20141201   \n",
       "3      1 Susan Street    Auburn  New South Wales                  5  20141202   \n",
       "4    40 Cherry Street   Ballina  New South Wales                  5  20141208   \n",
       "\n",
       "   COMMENT   LATITUDE   LONGITUDE  \n",
       "0      NaN -36.077655  146.915895  \n",
       "1      NaN -30.514478  151.665574  \n",
       "2      NaN -33.888846  151.124226  \n",
       "3      NaN -33.853288  151.033589  \n",
       "4      NaN -28.869447  153.561789  "
      ]
     },
     "execution_count": 4,
     "metadata": {},
     "output_type": "execute_result"
    }
   ],
   "source": [
    "all_councils.head(5)"
   ]
  },
  {
   "cell_type": "markdown",
   "metadata": {},
   "source": [
    "Dropping the unnecessary columns from the dataframe"
   ]
  },
  {
   "cell_type": "code",
   "execution_count": 5,
   "metadata": {},
   "outputs": [],
   "source": [
    "all_councils = all_councils.drop(['OBJECTID','FEATURETYPE','DESCRIPTION','CLASS','OPERATIONALSTATUS','FID','REVISED','COMMENT','LOCALGOVERNMENTAREA_LGA'], axis =1)"
   ]
  },
  {
   "cell_type": "code",
   "execution_count": 6,
   "metadata": {},
   "outputs": [
    {
     "data": {
      "text/plain": [
       "NAME                 626\n",
       "ADDRESS              624\n",
       "SUBURB               626\n",
       "STATE                626\n",
       "SPATIALCONFIDENCE    626\n",
       "LATITUDE             626\n",
       "LONGITUDE            626\n",
       "dtype: int64"
      ]
     },
     "execution_count": 6,
     "metadata": {},
     "output_type": "execute_result"
    }
   ],
   "source": [
    "all_councils.count()"
   ]
  },
  {
   "cell_type": "markdown",
   "metadata": {},
   "source": [
    "Keeping the councils that belong to VIC"
   ]
  },
  {
   "cell_type": "code",
   "execution_count": 7,
   "metadata": {},
   "outputs": [
    {
     "data": {
      "text/plain": [
       "NAME                 89\n",
       "ADDRESS              89\n",
       "SUBURB               89\n",
       "STATE                89\n",
       "SPATIALCONFIDENCE    89\n",
       "LATITUDE             89\n",
       "LONGITUDE            89\n",
       "dtype: int64"
      ]
     },
     "execution_count": 7,
     "metadata": {},
     "output_type": "execute_result"
    }
   ],
   "source": [
    "all_councils = all_councils.loc[all_councils['STATE'] == 'Victoria']\n",
    "all_councils.count()"
   ]
  },
  {
   "cell_type": "markdown",
   "metadata": {},
   "source": [
    "### Only few councils have adopted the Walking school bus Program.\n",
    "### The details of these councils can be found at : https://www.walktoschool.vic.gov.au/councils\n",
    "### The details of these councils are taken from the website and stored in a CSV file"
   ]
  },
  {
   "cell_type": "code",
   "execution_count": 8,
   "metadata": {},
   "outputs": [],
   "source": [
    "#Reading the CSV file using Pandas\n",
    "wsb_councils = pd.read_csv(\"wsb_councils.csv\")"
   ]
  },
  {
   "cell_type": "code",
   "execution_count": 9,
   "metadata": {},
   "outputs": [
    {
     "data": {
      "text/plain": [
       "NAME    71\n",
       "dtype: int64"
      ]
     },
     "execution_count": 9,
     "metadata": {},
     "output_type": "execute_result"
    }
   ],
   "source": [
    "#Checking the number of rows\n",
    "wsb_councils.count()"
   ]
  },
  {
   "cell_type": "code",
   "execution_count": 10,
   "metadata": {},
   "outputs": [],
   "source": [
    "#Merging both the dataframes based on council name\n",
    "df = pd.merge(wsb_councils,all_councils, on = 'NAME')"
   ]
  },
  {
   "cell_type": "code",
   "execution_count": 11,
   "metadata": {},
   "outputs": [
    {
     "data": {
      "text/html": [
       "<div>\n",
       "<style scoped>\n",
       "    .dataframe tbody tr th:only-of-type {\n",
       "        vertical-align: middle;\n",
       "    }\n",
       "\n",
       "    .dataframe tbody tr th {\n",
       "        vertical-align: top;\n",
       "    }\n",
       "\n",
       "    .dataframe thead th {\n",
       "        text-align: right;\n",
       "    }\n",
       "</style>\n",
       "<table border=\"1\" class=\"dataframe\">\n",
       "  <thead>\n",
       "    <tr style=\"text-align: right;\">\n",
       "      <th></th>\n",
       "      <th>NAME</th>\n",
       "      <th>ADDRESS</th>\n",
       "      <th>SUBURB</th>\n",
       "      <th>STATE</th>\n",
       "      <th>SPATIALCONFIDENCE</th>\n",
       "      <th>LATITUDE</th>\n",
       "      <th>LONGITUDE</th>\n",
       "    </tr>\n",
       "  </thead>\n",
       "  <tbody>\n",
       "    <tr>\n",
       "      <th>0</th>\n",
       "      <td>Alpine Shire Council</td>\n",
       "      <td>Great Alpine Road</td>\n",
       "      <td>Bright</td>\n",
       "      <td>Victoria</td>\n",
       "      <td>3</td>\n",
       "      <td>-36.728316</td>\n",
       "      <td>146.968649</td>\n",
       "    </tr>\n",
       "    <tr>\n",
       "      <th>1</th>\n",
       "      <td>Banyule City Council</td>\n",
       "      <td>44 Turnham Avenue</td>\n",
       "      <td>Rosanna</td>\n",
       "      <td>Victoria</td>\n",
       "      <td>4</td>\n",
       "      <td>-37.743296</td>\n",
       "      <td>145.067150</td>\n",
       "    </tr>\n",
       "    <tr>\n",
       "      <th>2</th>\n",
       "      <td>Bass Coast Shire Council</td>\n",
       "      <td>76 McBride Avenue</td>\n",
       "      <td>Wonthaggi</td>\n",
       "      <td>Victoria</td>\n",
       "      <td>4</td>\n",
       "      <td>-38.607895</td>\n",
       "      <td>145.590899</td>\n",
       "    </tr>\n",
       "    <tr>\n",
       "      <th>3</th>\n",
       "      <td>Baw Baw Shire Council - Drouin Office</td>\n",
       "      <td>33 Young Street</td>\n",
       "      <td>Drouin</td>\n",
       "      <td>Victoria</td>\n",
       "      <td>5</td>\n",
       "      <td>-38.135342</td>\n",
       "      <td>145.859339</td>\n",
       "    </tr>\n",
       "    <tr>\n",
       "      <th>4</th>\n",
       "      <td>Benalla Rural City Council</td>\n",
       "      <td>1 Bridge Street East</td>\n",
       "      <td>Benalla</td>\n",
       "      <td>Victoria</td>\n",
       "      <td>5</td>\n",
       "      <td>-36.551791</td>\n",
       "      <td>145.982183</td>\n",
       "    </tr>\n",
       "    <tr>\n",
       "      <th>5</th>\n",
       "      <td>Boroondara City Council</td>\n",
       "      <td>8 Inglesby Road</td>\n",
       "      <td>Camberwell</td>\n",
       "      <td>Victoria</td>\n",
       "      <td>5</td>\n",
       "      <td>-37.834671</td>\n",
       "      <td>145.059427</td>\n",
       "    </tr>\n",
       "  </tbody>\n",
       "</table>\n",
       "</div>"
      ],
      "text/plain": [
       "                                    NAME               ADDRESS      SUBURB  \\\n",
       "0                   Alpine Shire Council     Great Alpine Road      Bright   \n",
       "1                   Banyule City Council     44 Turnham Avenue     Rosanna   \n",
       "2               Bass Coast Shire Council     76 McBride Avenue   Wonthaggi   \n",
       "3  Baw Baw Shire Council - Drouin Office       33 Young Street      Drouin   \n",
       "4             Benalla Rural City Council  1 Bridge Street East     Benalla   \n",
       "5                Boroondara City Council       8 Inglesby Road  Camberwell   \n",
       "\n",
       "      STATE  SPATIALCONFIDENCE   LATITUDE   LONGITUDE  \n",
       "0  Victoria                  3 -36.728316  146.968649  \n",
       "1  Victoria                  4 -37.743296  145.067150  \n",
       "2  Victoria                  4 -38.607895  145.590899  \n",
       "3  Victoria                  5 -38.135342  145.859339  \n",
       "4  Victoria                  5 -36.551791  145.982183  \n",
       "5  Victoria                  5 -37.834671  145.059427  "
      ]
     },
     "execution_count": 11,
     "metadata": {},
     "output_type": "execute_result"
    }
   ],
   "source": [
    "#Printing the first few rows\n",
    "df.head(6)"
   ]
  },
  {
   "cell_type": "code",
   "execution_count": 12,
   "metadata": {},
   "outputs": [
    {
     "data": {
      "text/plain": [
       "NAME                 71\n",
       "ADDRESS              71\n",
       "SUBURB               71\n",
       "STATE                71\n",
       "SPATIALCONFIDENCE    71\n",
       "LATITUDE             71\n",
       "LONGITUDE            71\n",
       "dtype: int64"
      ]
     },
     "execution_count": 12,
     "metadata": {},
     "output_type": "execute_result"
    }
   ],
   "source": [
    "#Checking the number of rows\n",
    "df.count()"
   ]
  },
  {
   "cell_type": "code",
   "execution_count": 13,
   "metadata": {},
   "outputs": [],
   "source": [
    "#Saving the dataframe as CSV File\n",
    "df.to_csv('council_locations_wsb.csv', sep='\\t', encoding='utf-8')"
   ]
  }
 ],
 "metadata": {
  "kernelspec": {
   "display_name": "Python 3",
   "language": "python",
   "name": "python3"
  },
  "language_info": {
   "codemirror_mode": {
    "name": "ipython",
    "version": 3
   },
   "file_extension": ".py",
   "mimetype": "text/x-python",
   "name": "python",
   "nbconvert_exporter": "python",
   "pygments_lexer": "ipython3",
   "version": "3.7.6"
  }
 },
 "nbformat": 4,
 "nbformat_minor": 4
}
