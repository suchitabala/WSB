{
 "cells": [
  {
   "cell_type": "markdown",
   "metadata": {},
   "source": [
    "# Iteration 2 \n",
    "# Team D8\n",
    "\n",
    "Dataset : Road Deaths in Australia\n"
   ]
  },
  {
   "cell_type": "code",
   "execution_count": 2,
   "metadata": {},
   "outputs": [],
   "source": [
    "#Importing the required package"
   ]
  },
  {
   "cell_type": "code",
   "execution_count": 3,
   "metadata": {},
   "outputs": [],
   "source": [
    "import pandas as pd"
   ]
  },
  {
   "cell_type": "code",
   "execution_count": 4,
   "metadata": {},
   "outputs": [],
   "source": [
    "dfs = pd.read_excel('PERSON_Python.xls')"
   ]
  },
  {
   "cell_type": "code",
   "execution_count": 5,
   "metadata": {},
   "outputs": [
    {
     "data": {
      "text/plain": [
       "SEX                    12011\n",
       "AGE                    12011\n",
       "Age Group              12011\n",
       "INJ_LEVEL              12011\n",
       "Inj Level Desc         12011\n",
       "SEATING_POSITION       11194\n",
       "HELMET_BELT_WORN       12011\n",
       "ROAD_USER_TYPE         12011\n",
       "Road User Type Desc    12011\n",
       "LICENCE_STATE          12011\n",
       "PEDEST_MOVEMENT        12011\n",
       "POSTCODE                1590\n",
       "TAKEN_HOSPITAL         12011\n",
       "EJECTED_CODE           12011\n",
       "dtype: int64"
      ]
     },
     "execution_count": 5,
     "metadata": {},
     "output_type": "execute_result"
    }
   ],
   "source": [
    "dfs.count()"
   ]
  },
  {
   "cell_type": "code",
   "execution_count": 6,
   "metadata": {},
   "outputs": [],
   "source": [
    "#group by Injury type\n",
    "a = dfs.groupby(['Inj Level Desc']).size()"
   ]
  },
  {
   "cell_type": "code",
   "execution_count": 7,
   "metadata": {},
   "outputs": [],
   "source": [
    "a.to_excel('wranglng.xlsx', sheet_name='sheet1')"
   ]
  }
 ],
 "metadata": {
  "kernelspec": {
   "display_name": "Python 3",
   "language": "python",
   "name": "python3"
  },
  "language_info": {
   "codemirror_mode": {
    "name": "ipython",
    "version": 3
   },
   "file_extension": ".py",
   "mimetype": "text/x-python",
   "name": "python",
   "nbconvert_exporter": "python",
   "pygments_lexer": "ipython3",
   "version": "3.7.6"
  }
 },
 "nbformat": 4,
 "nbformat_minor": 4
}
