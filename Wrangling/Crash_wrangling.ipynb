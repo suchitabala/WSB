{
 "cells": [
  {
   "cell_type": "markdown",
   "metadata": {},
   "source": [
    "# Iteration 2\n",
    "# Team D8\n",
    "\n",
    "This python notebook represents on how the crash statistics was pre-processed to use it for relevant statistics."
   ]
  },
  {
   "cell_type": "code",
   "execution_count": 1,
   "metadata": {},
   "outputs": [],
   "source": [
    "import pandas as pd"
   ]
  },
  {
   "cell_type": "code",
   "execution_count": 2,
   "metadata": {},
   "outputs": [],
   "source": [
    "crash_df = pd.read_csv(\"Crashes_Last_Five_Years (1).csv\")"
   ]
  },
  {
   "cell_type": "code",
   "execution_count": 3,
   "metadata": {},
   "outputs": [],
   "source": [
    "crash = crash_df.copy()"
   ]
  },
  {
   "cell_type": "markdown",
   "metadata": {},
   "source": [
    "### Dropping unwanted columns"
   ]
  },
  {
   "cell_type": "code",
   "execution_count": 4,
   "metadata": {},
   "outputs": [],
   "source": [
    "crash = crash.drop(['OBJECTID','ACCIDENT_NO','ABS_CODE','DCA_CODE'], axis =1)"
   ]
  },
  {
   "cell_type": "code",
   "execution_count": 5,
   "metadata": {},
   "outputs": [],
   "source": [
    "crash = crash.drop(['ACCIDENT_STATUS','ALCOHOLTIME','HIT_RUN_FLAG','LIGHT_CONDITION'], axis =1)"
   ]
  },
  {
   "cell_type": "code",
   "execution_count": 6,
   "metadata": {},
   "outputs": [],
   "source": [
    "crash = crash.drop(['POLICE_ATTEND','ROAD_GEOMETRY','SEVERITY','SPEED_ZONE','STAT_DIV_NAME','PUBLICVEHICLE',\n",
    "                  'PASSENGERVEHICLE','MOTORCYCLE' ], axis =1)"
   ]
  },
  {
   "cell_type": "code",
   "execution_count": 7,
   "metadata": {},
   "outputs": [],
   "source": [
    "crash = crash.drop(['RUN_OFFROAD','NODE_ID','NODE_TYPE','SRNS','SRNS_ALL','RMA','RMA_ALL','DIVIDED','DIVIDED_ALL'], axis =1)"
   ]
  },
  {
   "cell_type": "code",
   "execution_count": 8,
   "metadata": {},
   "outputs": [],
   "source": [
    "crash = crash.drop(['VICGRID_X','VICGRID_Y','OLD_DRIVER','YOUNG_DRIVER','ALCOHOL_RELATED','UNLICENCSED',\n",
    "                    'HEAVYVEHICLE','DEG_URBAN_NAME'], axis =1)"
   ]
  },
  {
   "cell_type": "code",
   "execution_count": 9,
   "metadata": {},
   "outputs": [],
   "source": [
    "crash = crash.drop(['PED_CYCLIST_5_12',\n",
    "                    'PED_CYCLIST_13_18',\n",
    "                    'OLD_PEDESTRIAN','UNKNOWN','MOTORIST','PILLION','ACCIDENT_TYPE','NONINJURED'],axis = 1)"
   ]
  },
  {
   "cell_type": "code",
   "execution_count": 10,
   "metadata": {},
   "outputs": [],
   "source": [
    "crash = crash.drop (['BICYCLIST',\n",
    "                     'PASSENGER',\n",
    "                     'DRIVER',\n",
    "                     'PEDESTRIAN'],axis =1)"
   ]
  },
  {
   "cell_type": "markdown",
   "metadata": {},
   "source": [
    "### Converting to DateTime"
   ]
  },
  {
   "cell_type": "code",
   "execution_count": 11,
   "metadata": {},
   "outputs": [],
   "source": [
    "crash['ACCIDENT_DATE'] = pd.to_datetime(crash['ACCIDENT_DATE'])"
   ]
  },
  {
   "cell_type": "code",
   "execution_count": 12,
   "metadata": {},
   "outputs": [],
   "source": [
    "crash['YEAR']= crash['ACCIDENT_DATE'].dt.year"
   ]
  },
  {
   "cell_type": "code",
   "execution_count": 13,
   "metadata": {},
   "outputs": [],
   "source": [
    "crash['ACCIDENT_DATE'] = pd.to_datetime(crash['ACCIDENT_DATE'])"
   ]
  },
  {
   "cell_type": "code",
   "execution_count": 14,
   "metadata": {},
   "outputs": [],
   "source": [
    "crash['DAY'] = crash['ACCIDENT_DATE'].dt.day_name()"
   ]
  },
  {
   "cell_type": "code",
   "execution_count": 15,
   "metadata": {},
   "outputs": [],
   "source": [
    "crash['ACCIDENT_TIME'] = pd.to_datetime(crash.ACCIDENT_TIME, format = \"%H.%M.%S\").dt.time"
   ]
  },
  {
   "cell_type": "code",
   "execution_count": 16,
   "metadata": {},
   "outputs": [],
   "source": [
    "#Saving the dataframe as CSV File\n",
    "crash.to_csv('crash_date.csv', sep=',', encoding='utf-8')"
   ]
  },
  {
   "cell_type": "code",
   "execution_count": null,
   "metadata": {},
   "outputs": [],
   "source": []
  }
 ],
 "metadata": {
  "kernelspec": {
   "display_name": "Python 3",
   "language": "python",
   "name": "python3"
  },
  "language_info": {
   "codemirror_mode": {
    "name": "ipython",
    "version": 3
   },
   "file_extension": ".py",
   "mimetype": "text/x-python",
   "name": "python",
   "nbconvert_exporter": "python",
   "pygments_lexer": "ipython3",
   "version": "3.7.6"
  }
 },
 "nbformat": 4,
 "nbformat_minor": 4
}
