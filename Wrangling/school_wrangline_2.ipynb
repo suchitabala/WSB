{
 "cells": [
  {
   "cell_type": "markdown",
   "metadata": {},
   "source": [
    "# Iteration 2\n",
    "# Team D8\n",
    "\n",
    "This Jupyter notebook is wherein the Schools near the council are filtered out."
   ]
  },
  {
   "cell_type": "code",
   "execution_count": 355,
   "metadata": {},
   "outputs": [],
   "source": [
    "import pandas as pd"
   ]
  },
  {
   "cell_type": "code",
   "execution_count": 357,
   "metadata": {},
   "outputs": [],
   "source": [
    "school_df = pd.read_csv(\"school_detail.csv\")"
   ]
  },
  {
   "cell_type": "code",
   "execution_count": 358,
   "metadata": {},
   "outputs": [],
   "source": [
    "school = school_df.copy()"
   ]
  },
  {
   "cell_type": "markdown",
   "metadata": {},
   "source": [
    "### Dropping unwanted columns"
   ]
  },
  {
   "cell_type": "code",
   "execution_count": 360,
   "metadata": {},
   "outputs": [],
   "source": [
    "school = school.drop(['Address_Postcode','Address_Town','Postal_Address_Line_1',\n",
    "                    'Postal_Postcode','Full_Phone_No','LGA_ID'],axis =1)"
   ]
  },
  {
   "cell_type": "markdown",
   "metadata": {},
   "source": [
    "### Pre-processing steps"
   ]
  },
  {
   "cell_type": "code",
   "execution_count": 361,
   "metadata": {},
   "outputs": [],
   "source": [
    "school['LGA_Name'] = school['LGA_Name'].astype(str).str[:-3]"
   ]
  },
  {
   "cell_type": "code",
   "execution_count": 363,
   "metadata": {},
   "outputs": [],
   "source": [
    "school['Postal_Town'] = school['Postal_Town'].str.lower()"
   ]
  },
  {
   "cell_type": "code",
   "execution_count": 364,
   "metadata": {},
   "outputs": [],
   "source": [
    "council_df = pd.read_csv(\"council_locations_wsb.csv\",sep ='\\t')"
   ]
  },
  {
   "cell_type": "code",
   "execution_count": 365,
   "metadata": {},
   "outputs": [],
   "source": [
    "council = council_df.copy()"
   ]
  },
  {
   "cell_type": "code",
   "execution_count": 366,
   "metadata": {},
   "outputs": [],
   "source": [
    "council['SUBURB'] = council['SUBURB'].str.lower()"
   ]
  },
  {
   "cell_type": "code",
   "execution_count": 367,
   "metadata": {},
   "outputs": [],
   "source": [
    "council = council.drop(['ADDRESS',\n",
    "                       'STATE','SPATIALCONFIDENCE'],axis = 1)"
   ]
  },
  {
   "cell_type": "code",
   "execution_count": 368,
   "metadata": {},
   "outputs": [],
   "source": [
    "council['LGA_Name'] = council['NAME'].str.replace('Council', '')"
   ]
  },
  {
   "cell_type": "code",
   "execution_count": 369,
   "metadata": {},
   "outputs": [],
   "source": [
    "council['LGA_Name'] = council['LGA_Name'].str.replace('Shire', '')"
   ]
  },
  {
   "cell_type": "code",
   "execution_count": 370,
   "metadata": {},
   "outputs": [],
   "source": [
    "council['LGA_Name'] = council['LGA_Name'].str.replace('City', '')"
   ]
  },
  {
   "cell_type": "code",
   "execution_count": 371,
   "metadata": {},
   "outputs": [],
   "source": [
    "council['LGA_Name'] = council['LGA_Name'].str.replace('- Drouin Office', '')"
   ]
  },
  {
   "cell_type": "code",
   "execution_count": 372,
   "metadata": {},
   "outputs": [],
   "source": [
    "council['LGA_Name'] = council['LGA_Name'].str.replace('- Headquarters', '')"
   ]
  },
  {
   "cell_type": "code",
   "execution_count": 373,
   "metadata": {},
   "outputs": [],
   "source": [
    "council['LGA_Name'] = council['LGA_Name'].str.replace('of', '')"
   ]
  },
  {
   "cell_type": "code",
   "execution_count": 374,
   "metadata": {},
   "outputs": [],
   "source": [
    "council['LGA_Name'] = council['LGA_Name'].str.replace('Of', '')"
   ]
  },
  {
   "cell_type": "code",
   "execution_count": 375,
   "metadata": {},
   "outputs": [],
   "source": [
    "council['LGA_Name'] = council['LGA_Name'].str.replace(' - Mornington fice', '')"
   ]
  },
  {
   "cell_type": "code",
   "execution_count": 376,
   "metadata": {},
   "outputs": [
    {
     "data": {
      "text/html": [
       "<div>\n",
       "<style scoped>\n",
       "    .dataframe tbody tr th:only-of-type {\n",
       "        vertical-align: middle;\n",
       "    }\n",
       "\n",
       "    .dataframe tbody tr th {\n",
       "        vertical-align: top;\n",
       "    }\n",
       "\n",
       "    .dataframe thead th {\n",
       "        text-align: right;\n",
       "    }\n",
       "</style>\n",
       "<table border=\"1\" class=\"dataframe\">\n",
       "  <thead>\n",
       "    <tr style=\"text-align: right;\">\n",
       "      <th></th>\n",
       "      <th>Unnamed: 0</th>\n",
       "      <th>NAME</th>\n",
       "      <th>SUBURB</th>\n",
       "      <th>LATITUDE</th>\n",
       "      <th>LONGITUDE</th>\n",
       "      <th>LGA_Name</th>\n",
       "    </tr>\n",
       "  </thead>\n",
       "  <tbody>\n",
       "    <tr>\n",
       "      <th>0</th>\n",
       "      <td>0</td>\n",
       "      <td>Alpine Shire Council</td>\n",
       "      <td>bright</td>\n",
       "      <td>-36.728316</td>\n",
       "      <td>146.968649</td>\n",
       "      <td>Alpine</td>\n",
       "    </tr>\n",
       "    <tr>\n",
       "      <th>1</th>\n",
       "      <td>1</td>\n",
       "      <td>Banyule City Council</td>\n",
       "      <td>rosanna</td>\n",
       "      <td>-37.743296</td>\n",
       "      <td>145.067150</td>\n",
       "      <td>Banyule</td>\n",
       "    </tr>\n",
       "    <tr>\n",
       "      <th>2</th>\n",
       "      <td>2</td>\n",
       "      <td>Bass Coast Shire Council</td>\n",
       "      <td>wonthaggi</td>\n",
       "      <td>-38.607895</td>\n",
       "      <td>145.590899</td>\n",
       "      <td>Bass Coast</td>\n",
       "    </tr>\n",
       "  </tbody>\n",
       "</table>\n",
       "</div>"
      ],
      "text/plain": [
       "   Unnamed: 0                      NAME     SUBURB   LATITUDE   LONGITUDE  \\\n",
       "0           0      Alpine Shire Council     bright -36.728316  146.968649   \n",
       "1           1      Banyule City Council    rosanna -37.743296  145.067150   \n",
       "2           2  Bass Coast Shire Council  wonthaggi -38.607895  145.590899   \n",
       "\n",
       "       LGA_Name  \n",
       "0      Alpine    \n",
       "1     Banyule    \n",
       "2  Bass Coast    "
      ]
     },
     "execution_count": 376,
     "metadata": {},
     "output_type": "execute_result"
    }
   ],
   "source": [
    "council.head(3)"
   ]
  },
  {
   "cell_type": "code",
   "execution_count": 377,
   "metadata": {},
   "outputs": [],
   "source": [
    "council['LGA_Name'] = council['LGA_Name'].str.strip()"
   ]
  },
  {
   "cell_type": "code",
   "execution_count": 378,
   "metadata": {},
   "outputs": [
    {
     "data": {
      "text/plain": [
       "array(['Alpine', 'Banyule', 'Bass Coast', 'Baw Baw', 'Benalla Rural',\n",
       "       'Boroondara', 'Brimbank', 'Buloke', 'Campaspe', 'Cardinia',\n",
       "       'Casey', 'Central Goldfields', 'Ballarat', 'Stonnington',\n",
       "       'Colac-Otway', 'Corangamite', 'Darebin', 'East Gippsland',\n",
       "       'Frankston', 'Gannawarra', 'Glen Eira', 'Glenelg', 'Golden Plains',\n",
       "       'Greater Bendigo', 'Greater Dandenong', 'Greater Geelong',\n",
       "       'Greater Shepparton', 'Hepburn', 'Hindmarsh', 'Hobsons Bay',\n",
       "       'Horsham Rural', 'Hume', 'Indigo', 'Kingston', 'Knox', 'Latrobe',\n",
       "       'Loddon', 'Macedon Ranges', 'Manningham', 'Mansfield', 'Maroondah',\n",
       "       'Melton', 'Mildura Rural', 'Mitchell', 'Moira', 'Monash',\n",
       "       'Moonee Valley', 'Moorabool', 'Moreland', 'Mornington Peninsula',\n",
       "       'Mount Alexander', 'Murrindindi', 'Nillumbik',\n",
       "       'Northern Grampians', 'Port Phillip', 'Pyrenees',\n",
       "       'Queenscliffe Borough', 'South Gippsland', 'Southern Grampians',\n",
       "       'Strathbogie', 'Surf Coast', 'Swan Hill Rural', 'Towong',\n",
       "       'Wangaratta Rural', 'Warrnambool', 'Wellington', 'Whitehorse',\n",
       "       'Whittlesea', 'Wodonga', 'Yarra', 'Yarriambiack'], dtype=object)"
      ]
     },
     "execution_count": 378,
     "metadata": {},
     "output_type": "execute_result"
    }
   ],
   "source": [
    "council.LGA_Name.unique()"
   ]
  },
  {
   "cell_type": "code",
   "execution_count": 379,
   "metadata": {},
   "outputs": [],
   "source": [
    "school['LGA_Name'] = school['LGA_Name'].str.replace('(', '')"
   ]
  },
  {
   "cell_type": "code",
   "execution_count": 380,
   "metadata": {},
   "outputs": [],
   "source": [
    "school['LGA_Name'] = school['LGA_Name'].str.strip()"
   ]
  },
  {
   "cell_type": "code",
   "execution_count": 381,
   "metadata": {},
   "outputs": [],
   "source": [
    "school['LGA_Name'] = school['LGA_Name'].str.lower()\n",
    "council['LGA_Name'] = council['LGA_Name'].str.lower()"
   ]
  },
  {
   "cell_type": "code",
   "execution_count": 382,
   "metadata": {},
   "outputs": [
    {
     "data": {
      "text/plain": [
       "array(['wellington', 'warrnambool', 'pyrenees', 'strathbogie',\n",
       "       'manningham', 'greater geelong', 'moorabool', 'ballarat',\n",
       "       'wodonga', 'casey', 'bayside', 'moyne', 'hobsons bay',\n",
       "       'southern grampians', 'colac-otway', 'mount alexander', 'hepburn',\n",
       "       'greater bendigo', 'nillumbik', 'mornington peninsula', 'campaspe',\n",
       "       'moonee valley', 'maribyrnong', 'macedon ranges', 'alpine',\n",
       "       'boroondara', 'banyule', 'surf coast', 'indigo', 'golden plains',\n",
       "       'melton', 'yarra', 'whitehorse', 'moreland', 'whittlesea',\n",
       "       'glenelg', 'northern grampians', 'corangamite', 'melbourne',\n",
       "       'wangaratta', 'wyndham', 'mitchell', 'murrindindi', 'monash',\n",
       "       'central goldfields', 'east gippsland', 'ararat', 'mansfield',\n",
       "       'darebin', 'kingston', 'yarra ranges', 'latrobe', 'benalla',\n",
       "       'towong', 'hume', 'loddon', 'knox', 'greater shepparton',\n",
       "       'swan hill', 'port phillip', 'queenscliffe', 'west wimmera',\n",
       "       'frankston', 'bass coast', 'yarriambiack', 'hindmarsh',\n",
       "       'greater dandenong', 'gannawarra', 'baw baw', 'brimbank', 'buloke',\n",
       "       'horsham', 'stonnington', 'moira', 'cardinia', 'south gippsland',\n",
       "       'glen eira', 'maroondah', 'mildura', 'unincorporated'],\n",
       "      dtype=object)"
      ]
     },
     "execution_count": 382,
     "metadata": {},
     "output_type": "execute_result"
    }
   ],
   "source": [
    "school.LGA_Name.unique()"
   ]
  },
  {
   "cell_type": "code",
   "execution_count": 383,
   "metadata": {},
   "outputs": [],
   "source": [
    "new1 = pd.merge(school,council, on = 'LGA_Name')"
   ]
  },
  {
   "cell_type": "code",
   "execution_count": 384,
   "metadata": {},
   "outputs": [
    {
     "data": {
      "text/plain": [
       "Unnamed: 0_x      1345\n",
       "School_Name       1345\n",
       "Address_Line_1    1345\n",
       "Postal_Town       1345\n",
       "LGA_Name          1345\n",
       "X                 1345\n",
       "Y                 1345\n",
       "Unnamed: 0_y      1345\n",
       "NAME              1345\n",
       "SUBURB            1345\n",
       "LATITUDE          1345\n",
       "LONGITUDE         1345\n",
       "dtype: int64"
      ]
     },
     "execution_count": 384,
     "metadata": {},
     "output_type": "execute_result"
    }
   ],
   "source": [
    "new1.count()"
   ]
  },
  {
   "cell_type": "code",
   "execution_count": 385,
   "metadata": {},
   "outputs": [
    {
     "data": {
      "text/html": [
       "<div>\n",
       "<style scoped>\n",
       "    .dataframe tbody tr th:only-of-type {\n",
       "        vertical-align: middle;\n",
       "    }\n",
       "\n",
       "    .dataframe tbody tr th {\n",
       "        vertical-align: top;\n",
       "    }\n",
       "\n",
       "    .dataframe thead th {\n",
       "        text-align: right;\n",
       "    }\n",
       "</style>\n",
       "<table border=\"1\" class=\"dataframe\">\n",
       "  <thead>\n",
       "    <tr style=\"text-align: right;\">\n",
       "      <th></th>\n",
       "      <th>Unnamed: 0_x</th>\n",
       "      <th>School_Name</th>\n",
       "      <th>Address_Line_1</th>\n",
       "      <th>Postal_Town</th>\n",
       "      <th>LGA_Name</th>\n",
       "      <th>X</th>\n",
       "      <th>Y</th>\n",
       "      <th>Unnamed: 0_y</th>\n",
       "      <th>NAME</th>\n",
       "      <th>SUBURB</th>\n",
       "      <th>LATITUDE</th>\n",
       "      <th>LONGITUDE</th>\n",
       "    </tr>\n",
       "  </thead>\n",
       "  <tbody>\n",
       "    <tr>\n",
       "      <th>0</th>\n",
       "      <td>0</td>\n",
       "      <td>Alberton Primary School</td>\n",
       "      <td>21 Thomson Street</td>\n",
       "      <td>alberton</td>\n",
       "      <td>wellington</td>\n",
       "      <td>146.666601</td>\n",
       "      <td>-38.617713</td>\n",
       "      <td>65</td>\n",
       "      <td>Wellington Shire Council</td>\n",
       "      <td>sale</td>\n",
       "      <td>-38.1118</td>\n",
       "      <td>147.063626</td>\n",
       "    </tr>\n",
       "    <tr>\n",
       "      <th>1</th>\n",
       "      <td>68</td>\n",
       "      <td>Sale Primary School</td>\n",
       "      <td>Macalister Street</td>\n",
       "      <td>sale</td>\n",
       "      <td>wellington</td>\n",
       "      <td>147.073643</td>\n",
       "      <td>-38.108303</td>\n",
       "      <td>65</td>\n",
       "      <td>Wellington Shire Council</td>\n",
       "      <td>sale</td>\n",
       "      <td>-38.1118</td>\n",
       "      <td>147.063626</td>\n",
       "    </tr>\n",
       "    <tr>\n",
       "      <th>2</th>\n",
       "      <td>71</td>\n",
       "      <td>Stratford Primary School</td>\n",
       "      <td>Cnr Wellsford &amp; Hobson Streets</td>\n",
       "      <td>stratford</td>\n",
       "      <td>wellington</td>\n",
       "      <td>147.085386</td>\n",
       "      <td>-37.967251</td>\n",
       "      <td>65</td>\n",
       "      <td>Wellington Shire Council</td>\n",
       "      <td>sale</td>\n",
       "      <td>-38.1118</td>\n",
       "      <td>147.063626</td>\n",
       "    </tr>\n",
       "  </tbody>\n",
       "</table>\n",
       "</div>"
      ],
      "text/plain": [
       "   Unnamed: 0_x               School_Name                  Address_Line_1  \\\n",
       "0             0   Alberton Primary School               21 Thomson Street   \n",
       "1            68       Sale Primary School               Macalister Street   \n",
       "2            71  Stratford Primary School  Cnr Wellsford & Hobson Streets   \n",
       "\n",
       "  Postal_Town    LGA_Name           X          Y  Unnamed: 0_y  \\\n",
       "0    alberton  wellington  146.666601 -38.617713            65   \n",
       "1        sale  wellington  147.073643 -38.108303            65   \n",
       "2   stratford  wellington  147.085386 -37.967251            65   \n",
       "\n",
       "                       NAME SUBURB  LATITUDE   LONGITUDE  \n",
       "0  Wellington Shire Council   sale  -38.1118  147.063626  \n",
       "1  Wellington Shire Council   sale  -38.1118  147.063626  \n",
       "2  Wellington Shire Council   sale  -38.1118  147.063626  "
      ]
     },
     "execution_count": 385,
     "metadata": {},
     "output_type": "execute_result"
    }
   ],
   "source": [
    "new1.head(3)"
   ]
  },
  {
   "cell_type": "markdown",
   "metadata": {},
   "source": [
    "### Calculating the distance using Haversine Formula"
   ]
  },
  {
   "cell_type": "code",
   "execution_count": 386,
   "metadata": {},
   "outputs": [],
   "source": [
    "def dist_from_coordinates(lat1, lon1, lat2, lon2):\n",
    "    R = 6371  # Earth radius in km\n",
    "    d_lat = np.radians(lat2-lat1)\n",
    "    d_lon = np.radians(lon2-lon1)\n",
    "\n",
    "    r_lat1 = np.radians(lat1)\n",
    "    r_lat2 = np.radians(lat2)\n",
    "\n",
    "  #haversine formula\n",
    "    a = np.sin(d_lat/2.) **2 + np.cos(r_lat1) * np.cos(r_lat2) * np.sin(d_lon/2.)**2\n",
    "\n",
    "    haversine = 2 * R * np.arcsin(np.sqrt(a))\n",
    "    return haversine"
   ]
  },
  {
   "cell_type": "code",
   "execution_count": 387,
   "metadata": {},
   "outputs": [],
   "source": [
    "import numpy as np"
   ]
  },
  {
   "cell_type": "code",
   "execution_count": 388,
   "metadata": {},
   "outputs": [],
   "source": [
    "new_column = []                    #empty column for distance\n",
    "for index,row in new1.iterrows():\n",
    "    lat1 = row['Y'] #first row of location.lat column here\n",
    "    lon1 = row['X'] #first row of location.long column here\n",
    "    lat2 = row['LATITUDE'] #second row of location.lat column here\n",
    "    lon2 = row['LONGITUDE'] #second row of location.long column here\n",
    "    value = dist_from_coordinates(lat1, lon1, lat2, lon2)  #get the distance\n",
    "    new_column.append(value)"
   ]
  },
  {
   "cell_type": "code",
   "execution_count": 389,
   "metadata": {},
   "outputs": [],
   "source": [
    "new1.insert(1,\"Distance\",new_column)"
   ]
  },
  {
   "cell_type": "code",
   "execution_count": 391,
   "metadata": {},
   "outputs": [],
   "source": [
    "new1['Distance']= new1['Distance'].round().astype(int)"
   ]
  },
  {
   "cell_type": "code",
   "execution_count": 392,
   "metadata": {},
   "outputs": [
    {
     "data": {
      "text/html": [
       "<div>\n",
       "<style scoped>\n",
       "    .dataframe tbody tr th:only-of-type {\n",
       "        vertical-align: middle;\n",
       "    }\n",
       "\n",
       "    .dataframe tbody tr th {\n",
       "        vertical-align: top;\n",
       "    }\n",
       "\n",
       "    .dataframe thead th {\n",
       "        text-align: right;\n",
       "    }\n",
       "</style>\n",
       "<table border=\"1\" class=\"dataframe\">\n",
       "  <thead>\n",
       "    <tr style=\"text-align: right;\">\n",
       "      <th></th>\n",
       "      <th>Unnamed: 0_x</th>\n",
       "      <th>Distance</th>\n",
       "      <th>School_Name</th>\n",
       "      <th>Address_Line_1</th>\n",
       "      <th>Postal_Town</th>\n",
       "      <th>LGA_Name</th>\n",
       "      <th>X</th>\n",
       "      <th>Y</th>\n",
       "      <th>Unnamed: 0_y</th>\n",
       "      <th>NAME</th>\n",
       "      <th>SUBURB</th>\n",
       "      <th>LATITUDE</th>\n",
       "      <th>LONGITUDE</th>\n",
       "    </tr>\n",
       "  </thead>\n",
       "  <tbody>\n",
       "    <tr>\n",
       "      <th>0</th>\n",
       "      <td>0</td>\n",
       "      <td>66</td>\n",
       "      <td>Alberton Primary School</td>\n",
       "      <td>21 Thomson Street</td>\n",
       "      <td>alberton</td>\n",
       "      <td>wellington</td>\n",
       "      <td>146.666601</td>\n",
       "      <td>-38.617713</td>\n",
       "      <td>65</td>\n",
       "      <td>Wellington Shire Council</td>\n",
       "      <td>sale</td>\n",
       "      <td>-38.1118</td>\n",
       "      <td>147.063626</td>\n",
       "    </tr>\n",
       "    <tr>\n",
       "      <th>1</th>\n",
       "      <td>68</td>\n",
       "      <td>1</td>\n",
       "      <td>Sale Primary School</td>\n",
       "      <td>Macalister Street</td>\n",
       "      <td>sale</td>\n",
       "      <td>wellington</td>\n",
       "      <td>147.073643</td>\n",
       "      <td>-38.108303</td>\n",
       "      <td>65</td>\n",
       "      <td>Wellington Shire Council</td>\n",
       "      <td>sale</td>\n",
       "      <td>-38.1118</td>\n",
       "      <td>147.063626</td>\n",
       "    </tr>\n",
       "  </tbody>\n",
       "</table>\n",
       "</div>"
      ],
      "text/plain": [
       "   Unnamed: 0_x  Distance              School_Name     Address_Line_1  \\\n",
       "0             0        66  Alberton Primary School  21 Thomson Street   \n",
       "1            68         1      Sale Primary School  Macalister Street   \n",
       "\n",
       "  Postal_Town    LGA_Name           X          Y  Unnamed: 0_y  \\\n",
       "0    alberton  wellington  146.666601 -38.617713            65   \n",
       "1        sale  wellington  147.073643 -38.108303            65   \n",
       "\n",
       "                       NAME SUBURB  LATITUDE   LONGITUDE  \n",
       "0  Wellington Shire Council   sale  -38.1118  147.063626  \n",
       "1  Wellington Shire Council   sale  -38.1118  147.063626  "
      ]
     },
     "execution_count": 392,
     "metadata": {},
     "output_type": "execute_result"
    }
   ],
   "source": [
    "new1.head(2)"
   ]
  },
  {
   "cell_type": "code",
   "execution_count": 394,
   "metadata": {},
   "outputs": [],
   "source": [
    "new1 = new1[new1['Distance'] > 0]"
   ]
  },
  {
   "cell_type": "code",
   "execution_count": 397,
   "metadata": {},
   "outputs": [],
   "source": [
    "new3 = new1[new1['Distance'] <= 3]"
   ]
  },
  {
   "cell_type": "code",
   "execution_count": 400,
   "metadata": {},
   "outputs": [],
   "source": [
    "new3.to_csv('school_3.csv',sep=',')"
   ]
  }
 ],
 "metadata": {
  "kernelspec": {
   "display_name": "Python 3",
   "language": "python",
   "name": "python3"
  },
  "language_info": {
   "codemirror_mode": {
    "name": "ipython",
    "version": 3
   },
   "file_extension": ".py",
   "mimetype": "text/x-python",
   "name": "python",
   "nbconvert_exporter": "python",
   "pygments_lexer": "ipython3",
   "version": "3.7.6"
  }
 },
 "nbformat": 4,
 "nbformat_minor": 4
}
